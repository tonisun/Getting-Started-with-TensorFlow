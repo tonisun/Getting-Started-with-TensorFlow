# first_session.py

## a simple Python code
x = 1
y = x + 9
y

## ....and the tensorflow translation of the previous code
import tensorflow as tf

x = tf.constant(1, name='x', dtype=tf.uint8)
y = tf.Variable(x + 9, name='y', dtype=tf.uint8)
y
